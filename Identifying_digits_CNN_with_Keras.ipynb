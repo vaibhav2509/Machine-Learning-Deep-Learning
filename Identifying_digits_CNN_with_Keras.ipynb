{
 "cells": [
  {
   "cell_type": "code",
   "execution_count": 1,
   "metadata": {
    "collapsed": true
   },
   "outputs": [],
   "source": [
    "# Importing the required libraries\n",
    "# Numpy for storing the Image as a matrix\n",
    "# pandas to import the output csv file\n",
    "# openCV (i.e cv2) for importing the images\n",
    "# matplotlib for visualization\n",
    "# glob to access the folder in which the images are stored\n",
    "\n",
    "\n",
    "import numpy as np\n",
    "import pandas as pd\n",
    "import cv2\n",
    "import os\n",
    "from matplotlib import pyplot as plt\n",
    "%matplotlib inline\n",
    "import glob"
   ]
  },
  {
   "cell_type": "code",
   "execution_count": 2,
   "metadata": {
    "collapsed": true
   },
   "outputs": [],
   "source": [
    "img = cv2.imread(r\"D:\\self learning\\Machine_Learning_AZ_Template_Folder\\Machine Learning A-Z Template Folder\\Part 8 - Deep Learning\\Section 40 - Convolutional Neural Networks (CNN)\\Train\\Images\\train\\0.png\") "
   ]
  },
  {
   "cell_type": "code",
   "execution_count": 3,
   "metadata": {},
   "outputs": [
    {
     "data": {
      "text/plain": [
       "<matplotlib.image.AxesImage at 0x2b584f230f0>"
      ]
     },
     "execution_count": 3,
     "metadata": {},
     "output_type": "execute_result"
    },
    {
     "data": {
      "image/png": "[encoded data removed]",
      "text/plain": [
       "<matplotlib.figure.Figure at 0x2b582e7e1d0>"
      ]
     },
     "metadata": {},
     "output_type": "display_data"
    }
   ],
   "source": [
    "plt.imshow(img , cmap = 'gray')"
   ]
  },
  {
   "cell_type": "code",
   "execution_count": 4,
   "metadata": {
    "collapsed": true
   },
   "outputs": [],
   "source": [
    "folder = \"D:\\self learning\\Machine_Learning_AZ_Template_Folder\\Machine Learning A-Z Template Folder\\Part 8 - Deep Learning\\Section 40 - Convolutional Neural Networks (CNN)\\Train\\Images\\train\""
   ]
  },
  {
   "cell_type": "code",
   "execution_count": 5,
   "metadata": {
    "collapsed": true
   },
   "outputs": [],
   "source": [
    "# Importing image from folder into Notebook\n",
    "\n",
    "images = []\n",
    "\n",
    "for i in glob.glob(r\"D:\\self learning\\Machine_Learning_AZ_Template_Folder\\Machine Learning A-Z Template Folder\\Part 8 - Deep Learning\\Section 40 - Convolutional Neural Networks (CNN)\\Train\\Images\\train\\*.png\"):\n",
    "    img2 = cv2.imread(i)\n",
    "    #img2 = cv2.cvtColor(img2, cv2.COLOR_BGR2GRAY)\n",
    "    images.append(img2)\n",
    "        \n",
    "       "
   ]
  },
  {
   "cell_type": "code",
   "execution_count": 6,
   "metadata": {
    "collapsed": true
   },
   "outputs": [],
   "source": [
    "# Converting the image to numpy matrix\n",
    "\n",
    "X = np.array(images)"
   ]
  },
  {
   "cell_type": "code",
   "execution_count": 7,
   "metadata": {},
   "outputs": [
    {
     "data": {
      "text/plain": [
       "array([[[0, 0, 0],\n",
       "        [0, 0, 0],\n",
       "        [0, 0, 0],\n",
       "        ..., \n",
       "        [0, 0, 0],\n",
       "        [0, 0, 0],\n",
       "        [0, 0, 0]],\n",
       "\n",
       "       [[0, 0, 0],\n",
       "        [0, 0, 0],\n",
       "        [0, 0, 0],\n",
       "        ..., \n",
       "        [0, 0, 0],\n",
       "        [0, 0, 0],\n",
       "        [0, 0, 0]],\n",
       "\n",
       "       [[0, 0, 0],\n",
       "        [0, 0, 0],\n",
       "        [0, 0, 0],\n",
       "        ..., \n",
       "        [0, 0, 0],\n",
       "        [0, 0, 0],\n",
       "        [0, 0, 0]],\n",
       "\n",
       "       ..., \n",
       "       [[0, 0, 0],\n",
       "        [0, 0, 0],\n",
       "        [0, 0, 0],\n",
       "        ..., \n",
       "        [0, 0, 0],\n",
       "        [0, 0, 0],\n",
       "        [0, 0, 0]],\n",
       "\n",
       "       [[0, 0, 0],\n",
       "        [0, 0, 0],\n",
       "        [0, 0, 0],\n",
       "        ..., \n",
       "        [0, 0, 0],\n",
       "        [0, 0, 0],\n",
       "        [0, 0, 0]],\n",
       "\n",
       "       [[0, 0, 0],\n",
       "        [0, 0, 0],\n",
       "        [0, 0, 0],\n",
       "        ..., \n",
       "        [0, 0, 0],\n",
       "        [0, 0, 0],\n",
       "        [0, 0, 0]]], dtype=uint8)"
      ]
     },
     "execution_count": 7,
     "metadata": {},
     "output_type": "execute_result"
    }
   ],
   "source": [
    "\n",
    "X[0]\n"
   ]
  },
  {
   "cell_type": "code",
   "execution_count": 8,
   "metadata": {
    "collapsed": true
   },
   "outputs": [],
   "source": [
    "#Normalizing the pixel values from 0-255 to 0-1\n",
    "X = X/255"
   ]
  },
  {
   "cell_type": "code",
   "execution_count": 9,
   "metadata": {},
   "outputs": [
    {
     "data": {
      "text/plain": [
       "array([[[ 0.,  0.,  0.],\n",
       "        [ 0.,  0.,  0.],\n",
       "        [ 0.,  0.,  0.],\n",
       "        ..., \n",
       "        [ 0.,  0.,  0.],\n",
       "        [ 0.,  0.,  0.],\n",
       "        [ 0.,  0.,  0.]],\n",
       "\n",
       "       [[ 0.,  0.,  0.],\n",
       "        [ 0.,  0.,  0.],\n",
       "        [ 0.,  0.,  0.],\n",
       "        ..., \n",
       "        [ 0.,  0.,  0.],\n",
       "        [ 0.,  0.,  0.],\n",
       "        [ 0.,  0.,  0.]],\n",
       "\n",
       "       [[ 0.,  0.,  0.],\n",
       "        [ 0.,  0.,  0.],\n",
       "        [ 0.,  0.,  0.],\n",
       "        ..., \n",
       "        [ 0.,  0.,  0.],\n",
       "        [ 0.,  0.,  0.],\n",
       "        [ 0.,  0.,  0.]],\n",
       "\n",
       "       ..., \n",
       "       [[ 0.,  0.,  0.],\n",
       "        [ 0.,  0.,  0.],\n",
       "        [ 0.,  0.,  0.],\n",
       "        ..., \n",
       "        [ 0.,  0.,  0.],\n",
       "        [ 0.,  0.,  0.],\n",
       "        [ 0.,  0.,  0.]],\n",
       "\n",
       "       [[ 0.,  0.,  0.],\n",
       "        [ 0.,  0.,  0.],\n",
       "        [ 0.,  0.,  0.],\n",
       "        ..., \n",
       "        [ 0.,  0.,  0.],\n",
       "        [ 0.,  0.,  0.],\n",
       "        [ 0.,  0.,  0.]],\n",
       "\n",
       "       [[ 0.,  0.,  0.],\n",
       "        [ 0.,  0.,  0.],\n",
       "        [ 0.,  0.,  0.],\n",
       "        ..., \n",
       "        [ 0.,  0.,  0.],\n",
       "        [ 0.,  0.,  0.],\n",
       "        [ 0.,  0.,  0.]]])"
      ]
     },
     "execution_count": 9,
     "metadata": {},
     "output_type": "execute_result"
    }
   ],
   "source": [
    "X[0]"
   ]
  },
  {
   "cell_type": "code",
   "execution_count": 10,
   "metadata": {
    "collapsed": true
   },
   "outputs": [],
   "source": [
    "# Importing the csv contaning the output of the images\n",
    "\n",
    "labels = pd.read_csv(r\"D:\\self learning\\Machine_Learning_AZ_Template_Folder\\Machine Learning A-Z Template Folder\\Part 8 - Deep Learning\\Section 40 - Convolutional Neural Networks (CNN)\\Train\\train.csv\")"
   ]
  },
  {
   "cell_type": "code",
   "execution_count": 11,
   "metadata": {
    "collapsed": true
   },
   "outputs": [],
   "source": [
    "labels = labels['label']"
   ]
  },
  {
   "cell_type": "code",
   "execution_count": 17,
   "metadata": {
    "collapsed": true
   },
   "outputs": [],
   "source": [
    "# One hot encoding the output variable\n",
    "\n",
    "y = pd.get_dummies(labels , columns = ['label'])\n"
   ]
  },
  {
   "cell_type": "code",
   "execution_count": 13,
   "metadata": {},
   "outputs": [
    {
     "data": {
      "text/plain": [
       "array([[[ 0.,  0.,  0.],\n",
       "        [ 0.,  0.,  0.],\n",
       "        [ 0.,  0.,  0.],\n",
       "        ..., \n",
       "        [ 0.,  0.,  0.],\n",
       "        [ 0.,  0.,  0.],\n",
       "        [ 0.,  0.,  0.]],\n",
       "\n",
       "       [[ 0.,  0.,  0.],\n",
       "        [ 0.,  0.,  0.],\n",
       "        [ 0.,  0.,  0.],\n",
       "        ..., \n",
       "        [ 0.,  0.,  0.],\n",
       "        [ 0.,  0.,  0.],\n",
       "        [ 0.,  0.,  0.]],\n",
       "\n",
       "       [[ 0.,  0.,  0.],\n",
       "        [ 0.,  0.,  0.],\n",
       "        [ 0.,  0.,  0.],\n",
       "        ..., \n",
       "        [ 0.,  0.,  0.],\n",
       "        [ 0.,  0.,  0.],\n",
       "        [ 0.,  0.,  0.]],\n",
       "\n",
       "       ..., \n",
       "       [[ 0.,  0.,  0.],\n",
       "        [ 0.,  0.,  0.],\n",
       "        [ 0.,  0.,  0.],\n",
       "        ..., \n",
       "        [ 0.,  0.,  0.],\n",
       "        [ 0.,  0.,  0.],\n",
       "        [ 0.,  0.,  0.]],\n",
       "\n",
       "       [[ 0.,  0.,  0.],\n",
       "        [ 0.,  0.,  0.],\n",
       "        [ 0.,  0.,  0.],\n",
       "        ..., \n",
       "        [ 0.,  0.,  0.],\n",
       "        [ 0.,  0.,  0.],\n",
       "        [ 0.,  0.,  0.]],\n",
       "\n",
       "       [[ 0.,  0.,  0.],\n",
       "        [ 0.,  0.,  0.],\n",
       "        [ 0.,  0.,  0.],\n",
       "        ..., \n",
       "        [ 0.,  0.,  0.],\n",
       "        [ 0.,  0.,  0.],\n",
       "        [ 0.,  0.,  0.]]])"
      ]
     },
     "execution_count": 13,
     "metadata": {},
     "output_type": "execute_result"
    }
   ],
   "source": [
    "X[0]"
   ]
  },
  {
   "cell_type": "code",
   "execution_count": 14,
   "metadata": {},
   "outputs": [
    {
     "data": {
      "text/plain": [
       "(49000, 28, 28, 3)"
      ]
     },
     "execution_count": 14,
     "metadata": {},
     "output_type": "execute_result"
    }
   ],
   "source": [
    "X.shape"
   ]
  },
  {
   "cell_type": "code",
   "execution_count": 15,
   "metadata": {
    "collapsed": true
   },
   "outputs": [],
   "source": [
    "#Reshaping the numpy matrix of the image\n",
    "\n",
    "X = X.reshape(49000 , 28,28,3).astype('float32')\n"
   ]
  },
  {
   "cell_type": "code",
   "execution_count": 19,
   "metadata": {},
   "outputs": [
    {
     "data": {
      "text/html": [
       "<div>\n",
       "<style>\n",
       "    .dataframe thead tr:only-child th {\n",
       "        text-align: right;\n",
       "    }\n",
       "\n",
       "    .dataframe thead th {\n",
       "        text-align: left;\n",
       "    }\n",
       "\n",
       "    .dataframe tbody tr th {\n",
       "        vertical-align: top;\n",
       "    }\n",
       "</style>\n",
       "<table border=\"1\" class=\"dataframe\">\n",
       "  <thead>\n",
       "    <tr style=\"text-align: right;\">\n",
       "      <th></th>\n",
       "      <th>0</th>\n",
       "      <th>1</th>\n",
       "      <th>2</th>\n",
       "      <th>3</th>\n",
       "      <th>4</th>\n",
       "      <th>5</th>\n",
       "      <th>6</th>\n",
       "      <th>7</th>\n",
       "      <th>8</th>\n",
       "      <th>9</th>\n",
       "    </tr>\n",
       "  </thead>\n",
       "  <tbody>\n",
       "    <tr>\n",
       "      <th>0</th>\n",
       "      <td>0</td>\n",
       "      <td>0</td>\n",
       "      <td>0</td>\n",
       "      <td>0</td>\n",
       "      <td>1</td>\n",
       "      <td>0</td>\n",
       "      <td>0</td>\n",
       "      <td>0</td>\n",
       "      <td>0</td>\n",
       "      <td>0</td>\n",
       "    </tr>\n",
       "    <tr>\n",
       "      <th>1</th>\n",
       "      <td>0</td>\n",
       "      <td>0</td>\n",
       "      <td>0</td>\n",
       "      <td>0</td>\n",
       "      <td>0</td>\n",
       "      <td>0</td>\n",
       "      <td>0</td>\n",
       "      <td>0</td>\n",
       "      <td>0</td>\n",
       "      <td>1</td>\n",
       "    </tr>\n",
       "    <tr>\n",
       "      <th>2</th>\n",
       "      <td>0</td>\n",
       "      <td>1</td>\n",
       "      <td>0</td>\n",
       "      <td>0</td>\n",
       "      <td>0</td>\n",
       "      <td>0</td>\n",
       "      <td>0</td>\n",
       "      <td>0</td>\n",
       "      <td>0</td>\n",
       "      <td>0</td>\n",
       "    </tr>\n",
       "    <tr>\n",
       "      <th>3</th>\n",
       "      <td>0</td>\n",
       "      <td>0</td>\n",
       "      <td>0</td>\n",
       "      <td>0</td>\n",
       "      <td>0</td>\n",
       "      <td>0</td>\n",
       "      <td>0</td>\n",
       "      <td>1</td>\n",
       "      <td>0</td>\n",
       "      <td>0</td>\n",
       "    </tr>\n",
       "    <tr>\n",
       "      <th>4</th>\n",
       "      <td>0</td>\n",
       "      <td>0</td>\n",
       "      <td>0</td>\n",
       "      <td>1</td>\n",
       "      <td>0</td>\n",
       "      <td>0</td>\n",
       "      <td>0</td>\n",
       "      <td>0</td>\n",
       "      <td>0</td>\n",
       "      <td>0</td>\n",
       "    </tr>\n",
       "  </tbody>\n",
       "</table>\n",
       "</div>"
      ],
      "text/plain": [
       "   0  1  2  3  4  5  6  7  8  9\n",
       "0  0  0  0  0  1  0  0  0  0  0\n",
       "1  0  0  0  0  0  0  0  0  0  1\n",
       "2  0  1  0  0  0  0  0  0  0  0\n",
       "3  0  0  0  0  0  0  0  1  0  0\n",
       "4  0  0  0  1  0  0  0  0  0  0"
      ]
     },
     "execution_count": 19,
     "metadata": {},
     "output_type": "execute_result"
    }
   ],
   "source": [
    "y.head()"
   ]
  },
  {
   "cell_type": "code",
   "execution_count": 20,
   "metadata": {
    "collapsed": true
   },
   "outputs": [],
   "source": [
    "#Defining train and Test set\n",
    "\n",
    "from sklearn.model_selection import train_test_split\n",
    "\n",
    "X_train , X_test , y_train , y_test = train_test_split(X,y,test_size = 0.2)"
   ]
  },
  {
   "cell_type": "code",
   "execution_count": 21,
   "metadata": {},
   "outputs": [
    {
     "name": "stderr",
     "output_type": "stream",
     "text": [
      "Using TensorFlow backend.\n"
     ]
    }
   ],
   "source": [
    "# Defing the models used to develop the neural network\n",
    "\n",
    "from keras.models import Sequential\n",
    "from keras.layers import Dense\n",
    "from keras.layers import Flatten\n",
    "from keras.layers import Dropout\n",
    "from keras.layers.convolutional import Convolution2D , Conv2D\n",
    "from keras.layers.convolutional import MaxPooling2D\n"
   ]
  },
  {
   "cell_type": "code",
   "execution_count": 22,
   "metadata": {
    "collapsed": true
   },
   "outputs": [],
   "source": [
    "# Sequntial() funtion to define the neural net\n",
    "# Adding the convolution layer(i.e Feature Map , 32 in number with 4*4 size) and activation function as relu\n",
    "# Adding MaxPooling layer , which converts each Feature map defined above of size 4*4 to 2*2 (but 32 in number still)\n",
    "# Dropout to drop the features which contains less than 20% of the information\n",
    "# Flatten to convert the 32 feature map of 2*2 into 1D array(which corresponds to 128 as 32*2*2 = 128)\n",
    "# Adding Dense layer(Input layer of ANN) with 128 input neurons in the first layer and relu as the activation function\n",
    "# Adding second Dense layer of 10 Neurons( Number of classification) as the output layer\n",
    "# Softmax as the activation function in the output layer for a multi classification problem\n",
    "# If the classification was for 2 outputs only , sigmoid would have been used as the output activation function\n",
    "\n",
    "model = Sequential()\n",
    "model.add(Convolution2D(32, (4, 4), input_shape=(28, 28 , 3), activation='relu'))\n",
    "model.add(MaxPooling2D(pool_size=(2, 2)))\n",
    "model.add(Dropout(0.2))\n",
    "model.add(Flatten())\n",
    "model.add(Dense(128, activation='relu'))\n",
    "model.add(Dense(10, activation='softmax'))\n",
    "# Compile model\n",
    "model.compile(loss='categorical_crossentropy', optimizer='adam', metrics=['accuracy'])       "
   ]
  },
  {
   "cell_type": "code",
   "execution_count": 25,
   "metadata": {},
   "outputs": [
    {
     "name": "stdout",
     "output_type": "stream",
     "text": [
      "Train on 39200 samples, validate on 9800 samples\n",
      "Epoch 1/40\n",
      " - 27s - loss: 0.4793 - acc: 0.8355 - val_loss: 5.6993 - val_acc: 0.0952\n",
      "Epoch 2/40\n",
      " - 28s - loss: 0.4809 - acc: 0.8354 - val_loss: 5.7115 - val_acc: 0.0989\n",
      "Epoch 3/40\n",
      " - 26s - loss: 0.4818 - acc: 0.8371 - val_loss: 5.7011 - val_acc: 0.0996\n",
      "Epoch 4/40\n",
      " - 27s - loss: 0.4726 - acc: 0.8397 - val_loss: 5.7488 - val_acc: 0.1003\n",
      "Epoch 5/40\n",
      " - 28s - loss: 0.4581 - acc: 0.8438 - val_loss: 5.8168 - val_acc: 0.0976\n",
      "Epoch 6/40\n",
      " - 28s - loss: 0.4522 - acc: 0.8472 - val_loss: 5.8255 - val_acc: 0.0999\n",
      "Epoch 7/40\n",
      " - 30s - loss: 0.4567 - acc: 0.8441 - val_loss: 5.8795 - val_acc: 0.1005\n",
      "Epoch 8/40\n",
      " - 29s - loss: 0.4550 - acc: 0.8464 - val_loss: 5.8815 - val_acc: 0.1009\n",
      "Epoch 9/40\n",
      " - 28s - loss: 0.4414 - acc: 0.8468 - val_loss: 5.9415 - val_acc: 0.0997\n",
      "Epoch 10/40\n",
      " - 29s - loss: 0.4400 - acc: 0.8513 - val_loss: 5.9584 - val_acc: 0.1004\n",
      "Epoch 11/40\n",
      " - 28s - loss: 0.4314 - acc: 0.8530 - val_loss: 6.0217 - val_acc: 0.1018\n",
      "Epoch 12/40\n",
      " - 28s - loss: 0.4458 - acc: 0.8468 - val_loss: 5.9230 - val_acc: 0.0988\n",
      "Epoch 13/40\n",
      " - 28s - loss: 0.4221 - acc: 0.8576 - val_loss: 6.0152 - val_acc: 0.0980\n",
      "Epoch 14/40\n",
      " - 29s - loss: 0.4389 - acc: 0.8519 - val_loss: 6.0088 - val_acc: 0.1008\n",
      "Epoch 15/40\n",
      " - 28s - loss: 0.4192 - acc: 0.8586 - val_loss: 6.0242 - val_acc: 0.0998\n",
      "Epoch 16/40\n",
      " - 27s - loss: 0.4170 - acc: 0.8578 - val_loss: 6.0839 - val_acc: 0.0997\n",
      "Epoch 17/40\n",
      " - 28s - loss: 0.4101 - acc: 0.8598 - val_loss: 6.1478 - val_acc: 0.1006\n",
      "Epoch 18/40\n",
      " - 27s - loss: 0.4174 - acc: 0.8585 - val_loss: 6.1102 - val_acc: 0.1017\n",
      "Epoch 19/40\n",
      " - 28s - loss: 0.4098 - acc: 0.8616 - val_loss: 6.2150 - val_acc: 0.0974\n",
      "Epoch 20/40\n",
      " - 26s - loss: 0.4036 - acc: 0.8640 - val_loss: 6.2084 - val_acc: 0.0986\n",
      "Epoch 21/40\n",
      " - 27s - loss: 0.3969 - acc: 0.8646 - val_loss: 6.2378 - val_acc: 0.0978\n",
      "Epoch 22/40\n",
      " - 29s - loss: 0.3996 - acc: 0.8642 - val_loss: 6.2233 - val_acc: 0.0968\n",
      "Epoch 23/40\n",
      " - 29s - loss: 0.3922 - acc: 0.8673 - val_loss: 6.2499 - val_acc: 0.1003\n",
      "Epoch 24/40\n",
      " - 32s - loss: 0.3911 - acc: 0.8675 - val_loss: 6.2780 - val_acc: 0.0972\n",
      "Epoch 25/40\n",
      " - 28s - loss: 0.3869 - acc: 0.8679 - val_loss: 6.3577 - val_acc: 0.0998\n",
      "Epoch 26/40\n",
      " - 28s - loss: 0.3830 - acc: 0.8708 - val_loss: 6.3703 - val_acc: 0.0977\n",
      "Epoch 27/40\n",
      " - 27s - loss: 0.3817 - acc: 0.8711 - val_loss: 6.4067 - val_acc: 0.0989\n",
      "Epoch 28/40\n",
      " - 27s - loss: 0.3805 - acc: 0.8714 - val_loss: 6.4035 - val_acc: 0.1003\n",
      "Epoch 29/40\n",
      " - 26s - loss: 0.3749 - acc: 0.8736 - val_loss: 6.3953 - val_acc: 0.1005\n",
      "Epoch 30/40\n",
      " - 27s - loss: 0.3685 - acc: 0.8737 - val_loss: 6.4650 - val_acc: 0.0989\n",
      "Epoch 31/40\n",
      " - 27s - loss: 0.3743 - acc: 0.8728 - val_loss: 6.4305 - val_acc: 0.1012\n",
      "Epoch 32/40\n",
      " - 26s - loss: 0.3701 - acc: 0.8735 - val_loss: 6.4628 - val_acc: 0.1011\n",
      "Epoch 33/40\n",
      " - 27s - loss: 0.3650 - acc: 0.8765 - val_loss: 6.4938 - val_acc: 0.0994\n",
      "Epoch 34/40\n",
      " - 27s - loss: 0.3599 - acc: 0.8784 - val_loss: 6.5005 - val_acc: 0.0995\n",
      "Epoch 35/40\n",
      " - 26s - loss: 0.3600 - acc: 0.8771 - val_loss: 6.5428 - val_acc: 0.1031\n",
      "Epoch 36/40\n",
      " - 26s - loss: 0.3532 - acc: 0.8792 - val_loss: 6.5854 - val_acc: 0.0969\n",
      "Epoch 37/40\n",
      " - 27s - loss: 0.3495 - acc: 0.8825 - val_loss: 6.5982 - val_acc: 0.0991\n",
      "Epoch 38/40\n",
      " - 27s - loss: 0.3566 - acc: 0.8797 - val_loss: 6.5620 - val_acc: 0.0997\n",
      "Epoch 39/40\n",
      " - 27s - loss: 0.3459 - acc: 0.8823 - val_loss: 6.6151 - val_acc: 0.0983\n",
      "Epoch 40/40\n",
      " - 26s - loss: 0.3533 - acc: 0.8811 - val_loss: 6.6468 - val_acc: 0.0982\n",
      "9800/9800 [==============================] - 3s 279us/step\n",
      "CNN Error: 90.18%\n"
     ]
    }
   ],
   "source": [
    "# Fitting the neural net defined above with the training data\n",
    "\n",
    "model.fit(X_train , y_train ,validation_data=(X_test, y_test) , epochs=40 , batch_size=200 , verbose=2)\n",
    "result = model.evaluate(X_test , y_test)\n",
    "print(\"CNN Error: %.2f%%\" % (100-result[1]*100))"
   ]
  },
  {
   "cell_type": "code",
   "execution_count": null,
   "metadata": {
    "collapsed": true
   },
   "outputs": [],
   "source": []
  }
 ],
 "metadata": {
  "kernelspec": {
   "display_name": "Python 3",
   "language": "python",
   "name": "python3"
  },
  "language_info": {
   "codemirror_mode": {
    "name": "ipython",
    "version": 3
   },
   "file_extension": ".py",
   "mimetype": "text/x-python",
   "name": "python",
   "nbconvert_exporter": "python",
   "pygments_lexer": "ipython3",
   "version": "3.6.3"
  }
 },
 "nbformat": 4,
 "nbformat_minor": 2
}
